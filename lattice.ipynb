{
 "cells": [
  {
   "cell_type": "code",
   "execution_count": 25,
   "metadata": {},
   "outputs": [
    {
     "name": "stdout",
     "output_type": "stream",
     "text": [
      "Full Formula (H4)\n",
      "Reduced Formula: H2\n",
      "abc   :   3.761954   3.761954   4.534819\n",
      "angles:  90.000000  90.000000 120.000000\n",
      "Sites (4)\n",
      "  #  SP           a         b         c    magmom\n",
      "---  ----  --------  --------  --------  --------\n",
      "  0  H     0.333333  0.666667  0.167317         0\n",
      "  1  H     0.666667  0.333333  0.667317         0\n",
      "  2  H     0.666667  0.333333  0.832683         0\n",
      "  3  H     0.333333  0.666667  0.332683         0\n",
      "hexagonal\n",
      "[0.333333, 0.666667, 0.167317]\n",
      "[0.666667, 0.333333, 0.667317]\n",
      "[0.666667, 0.333333, 0.832683]\n",
      "[ 0.00099176 -0.00198352  0.        ]\n",
      "[-0.00898435  0.00298697  0.00599737]\n",
      "[ 0.00700083 -0.00199522 -0.00599737]\n"
     ]
    }
   ],
   "source": [
    "from pymatgen.alchemy.transmuters import CifTransmuter\n",
    "from pymatgen.transformations.standard_transformations import SubstitutionTransformation, RemoveSpeciesTransformation\n",
    "from pymatgen import Lattice, Structure, Molecule\n",
    "from pymatgen.ext.matproj import MPRester\n",
    "import numpy as np\n",
    "import scipy as sp\n",
    "import pylab as pl\n",
    "from pymatgen.symmetry.analyzer import SpacegroupAnalyzer\n",
    "\n",
    "with MPRester(\"Osul7wWQrx1czIDzJdH7\") as m:\n",
    "\n",
    "    # Structure for material id\n",
    "    structure = m.get_structure_by_material_id(\"mp-24504\")\n",
    "    print(structure)\n",
    "    \n",
    "    #système cristallin : Hexagonal\n",
    "    system = spg.get_crystal_system()\n",
    "    print(system)\n",
    "    \n",
    "    #vecteurs de base du réseau direct\n",
    "    a = 3.761954 #Ångström\n",
    "    b = 3.761954 #Ångström\n",
    "    c = 4.534819 #Ångström\n",
    "    alpha = 90\n",
    "    beta = 90\n",
    "    gamma = 120\n",
    "    Volume = 55.580\n",
    "    \n",
    "    #vecteurs de bases du réseau direct\n",
    "    A = [0.333333,  0.666667,  0.167317]\n",
    "    B = [0.666667,  0.333333,  0.667317]\n",
    "    C = [0.666667,  0.333333,  0.832683]\n",
    "    \n",
    "    print(A)\n",
    "    print(B)\n",
    "    print(C)\n",
    "    '''#réseau réciproque\n",
    "    a_reciproque = (2/(a*3**(0.5))\n",
    "    b_reciproque = (2/(a*3**(0.5))\n",
    "    c_reciproque = (1/c)\n",
    "    alpha_reciproque = 90\n",
    "    beta_reciproque = 90\n",
    "    gamma_reciproque = 60'''\n",
    "    \n",
    "    #vecteurs de bases du réseau réciproque\n",
    "    A_reciproque = (1/Volume)*np.cross(B, C)\n",
    "    B_reciproque = (1/Volume)*np.cross(C, A)\n",
    "    C_reciproque = (1/Volume)*np.cross(A, B)\n",
    "                    \n",
    "    print(A_reciproque)\n",
    "    print(B_reciproque)\n",
    "    print(C_reciproque)\n",
    "    #groupe ponctuel : 6/mmm \n",
    "    #type de maille : P\n",
    "    #volume de la maille primitive : 55.580 A^3\n",
    "        "
   ]
  },
  {
   "cell_type": "code",
   "execution_count": null,
   "metadata": {},
   "outputs": [],
   "source": []
  }
 ],
 "metadata": {
  "kernelspec": {
   "display_name": "Python 3",
   "language": "python",
   "name": "python3"
  },
  "language_info": {
   "codemirror_mode": {
    "name": "ipython",
    "version": 3
   },
   "file_extension": ".py",
   "mimetype": "text/x-python",
   "name": "python",
   "nbconvert_exporter": "python",
   "pygments_lexer": "ipython3",
   "version": "3.7.1"
  }
 },
 "nbformat": 4,
 "nbformat_minor": 2
}
