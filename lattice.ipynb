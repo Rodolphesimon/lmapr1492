from pymatgen.alchemy.transmuters import CifTransmuter
from pymatgen.transformations.standard_transformations import SubstitutionTransformation, RemoveSpeciesTransformation
from pymatgen import Lattice, Structure, Molecule
from pymatgen.ext.matproj import MPRester
import numpy as np
import scipy as sp
import pylab as pl

with MPRester("Osul7wWQrx1czIDzJdH7") as m:

    # Structure for material id
    structure = m.get_structure_by_material_id("mp-24504")
    print(structure)
    
    #réseau réciproque
    a = np.array([1, 2, 3])
    b = np.array([1, 2, 3])
    c = np.array([1, 2, 3])
    
    #système cristallin : Hexagonal
    #groupe ponctuel : 6/mmm 
    #type de maille : P
    #volume de la maille primitive : 55.580 A^3
    
    #Pas encore utile
    #Bandstructure for material id
    #bandstructure = m.get_bandstructure_by_material_id("mp-24504")
    #print(bandstructure)
        
