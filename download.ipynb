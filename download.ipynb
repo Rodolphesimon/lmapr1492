from pymatgen.alchemy.transmuters import CifTransmuter
from pymatgen.transformations.standard_transformations import SubstitutionTransformation, RemoveSpeciesTransformation
class MPRester(api_key=None, endpoint=None, include_user_agent=True)
from pymatgen import Lattice, Structure, Molecule


with MPRester("Osul7wWQrx1czIDzJdH7") as m:

    # Structure for material id
    structure = m.get_structure_by_material_id("mp-24504")

    # Dos for material id
    dos = m.get_dos_by_material_id("mp-24504")

    # Bandstructure for material id
    bandstructure = m.get_bandstructure_by_material_id("mp-24504")
